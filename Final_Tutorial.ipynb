{
 "cells": [
  {
   "cell_type": "markdown",
   "id": "3b056e0f-9fdb-4b0b-a1d4-668caf3c7228",
   "metadata": {},
   "source": [
    "https://www.markdownguide.org - how to use MarkDown\n",
    "# Final Tutorial\n",
    "### Niko Zhang and Sophi Tsai"
   ]
  },
  {
   "cell_type": "code",
   "execution_count": null,
   "id": "41073950-d973-430d-8a75-0f1addeeb6b1",
   "metadata": {},
   "outputs": [],
   "source": []
  }
 ],
 "metadata": {
  "kernelspec": {
   "display_name": "Python 3 (ipykernel)",
   "language": "python",
   "name": "python3"
  },
  "language_info": {
   "codemirror_mode": {
    "name": "ipython",
    "version": 3
   },
   "file_extension": ".py",
   "mimetype": "text/x-python",
   "name": "python",
   "nbconvert_exporter": "python",
   "pygments_lexer": "ipython3",
   "version": "3.10.8"
  }
 },
 "nbformat": 4,
 "nbformat_minor": 5
}
